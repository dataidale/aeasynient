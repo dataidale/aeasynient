{
 "cells": [
  {
   "cell_type": "markdown",
   "metadata": {},
   "source": [
    "# Chapters 7 and 8: Sentiment Analysis\n",
    "\n",
    "## Data loading and preliminary inspection\n",
    "\n",
    "We will be using popular `polarity dataset 2.0` collected by [Bo Pang and colleagues from Cornell Univeristy](http://www.cs.cornell.edu/people/pabo/movie-review-data/). Let's first read it in and inspect the data. This code is very similar to the routine applied to spam filtering in Chapter 2:"
   ]
  },
  {
   "cell_type": "code",
   "execution_count": 1,
   "metadata": {},
   "outputs": [],
   "source": [
    "import os, codecs\n",
    "\n",
    "def read_in(folder):\n",
    "    files = os.listdir(folder)\n",
    "    a_dict = {}\n",
    "    for a_file in sorted(files):\n",
    "        if not a_file.startswith(\".\"):\n",
    "            with codecs.open(folder + a_file, encoding='ISO-8859-1', errors ='ignore') as f:\n",
    "                file_id = a_file.split(\".\")[0].strip()\n",
    "                a_dict[file_id] = f.read()\n",
    "            f.close()\n",
    "    return a_dict"
   ]
  },
  {
   "cell_type": "markdown",
   "metadata": {},
   "source": [
    "Now, when you download the dataset, it comes as two subfolders named `pos/` for all positive reviews and `neg/` for all negative ones, put within a folder called `review_polarity/txt_sentoken/`. If you don't change the folder names, you can simply read in the contents of all positive and negative reviews and put them in separate Python dictionaries of review titles mapped to the reviews content, using the method `read_in` from above.\n",
    "\n",
    "Let's also print out the number of reviews in positive and negative dictionaries, as well as the very first positive and very first negative reviews in the dictionaries."
   ]
  },
  {
   "cell_type": "code",
   "execution_count": 2,
   "metadata": {},
   "outputs": [
    {
     "name": "stdout",
     "output_type": "stream",
     "text": [
      "1000\n",
      "films adapted from comic books have had plenty of success , whether they're about superheroes ( batman , superman , spawn ) , or geared toward kids ( casper ) or the arthouse crowd ( ghost world ) , but there's never really been a comic book like from hell before . \n",
      "for starters , it was created by alan moore ( and eddie campbell ) , who brought the medium to a whole new level in the mid '80s with a 12-part series called the watchmen . \n",
      "to say moore and campbell thoroughly researched the subject of jack the ripper would be like saying michael jackson is starting to look a little odd . \n",
      "the book ( or \" graphic novel , \" if you will ) is over 500 pages long and includes nearly 30 more that consist of nothing but footnotes . \n",
      "in other words , don't dismiss this film because of its source . \n",
      "if you can get past the whole comic book thing , you might find another stumbling block in from hell's directors , albert and allen hughes . \n",
      "getting the hughes brothers to direct this seems almost as ludicrous as casting carrot top in , well , anything , but riddle me this : who better to direct a film that's set in the ghetto and features really violent street crime than the mad geniuses behind menace ii society ? \n",
      "the ghetto in question is , of course , whitechapel in 1888 london's east end . \n",
      "it's a filthy , sooty place where the whores ( called \" unfortunates \" ) are starting to get a little nervous about this mysterious psychopath who has been carving through their profession with surgical precision . \n",
      "when the first stiff turns up , copper peter godley ( robbie coltrane , the world is not enough ) calls in inspector frederick abberline ( johnny depp , blow ) to crack the case . \n",
      "abberline , a widower , has prophetic dreams he unsuccessfully tries to quell with copious amounts of absinthe and opium . \n",
      "upon arriving in whitechapel , he befriends an unfortunate named mary kelly ( heather graham , say it isn't so ) and proceeds to investigate the horribly gruesome crimes that even the police surgeon can't stomach . \n",
      "i don't think anyone needs to be briefed on jack the ripper , so i won't go into the particulars here , other than to say moore and campbell have a unique and interesting theory about both the identity of the killer and the reasons he chooses to slay . \n",
      "in the comic , they don't bother cloaking the identity of the ripper , but screenwriters terry hayes ( vertical limit ) and rafael yglesias ( les mis ? rables ) do a good job of keeping him hidden from viewers until the very end . \n",
      "it's funny to watch the locals blindly point the finger of blame at jews and indians because , after all , an englishman could never be capable of committing such ghastly acts . \n",
      "and from hell's ending had me whistling the stonecutters song from the simpsons for days ( \" who holds back the electric car/who made steve guttenberg a star ? \" ) . \n",
      "don't worry - it'll all make sense when you see it . \n",
      "now onto from hell's appearance : it's certainly dark and bleak enough , and it's surprising to see how much more it looks like a tim burton film than planet of the apes did ( at times , it seems like sleepy hollow 2 ) . \n",
      "the print i saw wasn't completely finished ( both color and music had not been finalized , so no comments about marilyn manson ) , but cinematographer peter deming ( don't say a word ) ably captures the dreariness of victorian-era london and helped make the flashy killing scenes remind me of the crazy flashbacks in twin peaks , even though the violence in the film pales in comparison to that in the black-and-white comic . \n",
      "oscar winner martin childs' ( shakespeare in love ) production design turns the original prague surroundings into one creepy place . \n",
      "even the acting in from hell is solid , with the dreamy depp turning in a typically strong performance and deftly handling a british accent . \n",
      "ians holm ( joe gould's secret ) and richardson ( 102 dalmatians ) log in great supporting roles , but the big surprise here is graham . \n",
      "i cringed the first time she opened her mouth , imagining her attempt at an irish accent , but it actually wasn't half bad . \n",
      "the film , however , is all good . \n",
      "2 : 00 - r for strong violence/gore , sexuality , language and drug content \n",
      "\n",
      "1000\n",
      "plot : two teen couples go to a church party , drink and then drive . \n",
      "they get into an accident . \n",
      "one of the guys dies , but his girlfriend continues to see him in her life , and has nightmares . \n",
      "what's the deal ? \n",
      "watch the movie and \" sorta \" find out . . . \n",
      "critique : a mind-fuck movie for the teen generation that touches on a very cool idea , but presents it in a very bad package . \n",
      "which is what makes this review an even harder one to write , since i generally applaud films which attempt to break the mold , mess with your head and such ( lost highway & memento ) , but there are good and bad ways of making all types of films , and these folks just didn't snag this one correctly . \n",
      "they seem to have taken this pretty neat concept , but executed it terribly . \n",
      "so what are the problems with the movie ? \n",
      "well , its main problem is that it's simply too jumbled . \n",
      "it starts off \" normal \" but then downshifts into this \" fantasy \" world in which you , as an audience member , have no idea what's going on . \n",
      "there are dreams , there are characters coming back from the dead , there are others who look like the dead , there are strange apparitions , there are disappearances , there are a looooot of chase scenes , there are tons of weird things that happen , and most of it is simply not explained . \n",
      "now i personally don't mind trying to unravel a film every now and then , but when all it does is give me the same clue over and over again , i get kind of fed up after a while , which is this film's biggest problem . \n",
      "it's obviously got this big secret to hide , but it seems to want to hide it completely until its final five minutes . \n",
      "and do they make things entertaining , thrilling or even engaging , in the meantime ? \n",
      "not really . \n",
      "the sad part is that the arrow and i both dig on flicks like this , so we actually figured most of it out by the half-way point , so all of the strangeness after that did start to make a little bit of sense , but it still didn't the make the film all that more entertaining . \n",
      "i guess the bottom line with movies like this is that you should always make sure that the audience is \" into it \" even before they are given the secret password to enter your world of understanding . \n",
      "i mean , showing melissa sagemiller running away from visions for about 20 minutes throughout the movie is just plain lazy ! ! \n",
      "okay , we get it . . . there \n",
      "are people chasing her and we don't know who they are . \n",
      "do we really need to see it over and over again ? \n",
      "how about giving us different scenes offering further insight into all of the strangeness going down in the movie ? \n",
      "apparently , the studio took this film away from its director and chopped it up themselves , and it shows . \n",
      "there might've been a pretty decent teen mind-fuck movie in here somewhere , but i guess \" the suits \" decided that turning it into a music video with little edge , would make more sense . \n",
      "the actors are pretty good for the most part , although wes bentley just seemed to be playing the exact same character that he did in american beauty , only in a new neighborhood . \n",
      "but my biggest kudos go out to sagemiller , who holds her own throughout the entire film , and actually has you feeling her character's unraveling . \n",
      "overall , the film doesn't stick because it doesn't entertain , it's confusing , it rarely excites and it feels pretty redundant for most of its runtime , despite a pretty cool ending and explanation to all of the craziness that came before it . \n",
      "oh , and by the way , this is not a horror or teen slasher flick . . . it's \n",
      "just packaged to look that way because someone is apparently assuming that the genre is still hot with the kids . \n",
      "it also wrapped production two years ago and has been sitting on the shelves ever since . \n",
      "whatever . . . skip \n",
      "it ! \n",
      "where's joblo coming from ? \n",
      "a nightmare of elm street 3 ( 7/10 ) - blair witch 2 ( 7/10 ) - the crow ( 9/10 ) - the crow : salvation ( 4/10 ) - lost highway ( 10/10 ) - memento ( 10/10 ) - the others ( 9/10 ) - stir of echoes ( 8/10 ) \n",
      "\n"
     ]
    }
   ],
   "source": [
    "folder = \"review_polarity/txt_sentoken/\"\n",
    "pos_dict = read_in(folder + \"pos/\")\n",
    "print(len(pos_dict))\n",
    "print(pos_dict.get(next(iter(pos_dict))))\n",
    "neg_dict = read_in(folder + \"neg/\")\n",
    "print(len(neg_dict))\n",
    "print(neg_dict.get(next(iter(neg_dict))))"
   ]
  },
  {
   "cell_type": "markdown",
   "metadata": {},
   "source": [
    "So far so good! There are a couple of observation that you can make at this point:\n",
    "\n",
    "- The dataset is balanced between positive and negative reviews – both subsets have `1000` texts.\n",
    "- Texts are already preprocessed: they are tokenized (i.e., each word token is separated from its neighbours by a white space, all words are converted to lower case).\n",
    "\n",
    "What can you tell about the word content? Does the first positive review contain many positive words: i.e., if you didn't know it came from the `pos/` folder, would you be able to tell it was a positive one?\n",
    "\n",
    "Let's next calculate some simple statistics, including: \n",
    "- Average length of a review in positive and negative subsets\n",
    "- Average number of words per sentence\n",
    "- Size of the vocabulary (unique words in each subset)\n",
    "- *Diversity* of sentiment vocabulary – average number of times each word occurs in a text with a specific sentiment\n",
    "\n",
    "Many of these calculations will rely on having words extracted from text. Since texts are already tokenized and words are separated by white spaces, it's a matter of simply splitting texts into words by white spaces – see method `tokenize`:"
   ]
  },
  {
   "cell_type": "code",
   "execution_count": 3,
   "metadata": {},
   "outputs": [
    {
     "name": "stdout",
     "output_type": "stream",
     "text": [
      " Category  Avg_Len(Review)  Avg_Len(Sent)  Vocabulary Size  Diversity \n",
      " Positive  787.051000       23.191531      36805.000000     21.384350 \n",
      " Negative  705.630000       21.524266      34542.000000     20.428174 \n"
     ]
    }
   ],
   "source": [
    "def tokenize(text):\n",
    "    text.replace(\"\\n\", \" \")\n",
    "    return text.split()\n",
    "\n",
    "def statistics(a_dict):\n",
    "    length = 0\n",
    "    sent_length = 0\n",
    "    num_sents = 0\n",
    "    vocab = []\n",
    "    for review in a_dict.values():\n",
    "        length += len(tokenize(review))\n",
    "        sents = review.split(\"\\n\")\n",
    "        num_sents += len(sents)\n",
    "        for sent in sents:\n",
    "            sent_length += len(tokenize(sent))\n",
    "        vocab += tokenize(review)\n",
    "    avg_length = float(length)/len(a_dict)\n",
    "    avg_sent_length = float(sent_length)/num_sents\n",
    "    vocab_size = len(set(vocab))\n",
    "    diversity = float(length)/float(vocab_size)\n",
    "    return avg_length, avg_sent_length, vocab_size, diversity\n",
    "        \n",
    "categories = [\"Positive\", \"Negative\"]\n",
    "rows = []\n",
    "rows.append([\"Category\", \"Avg_Len(Review)\", \"Avg_Len(Sent)\", \"Vocabulary Size\", \"Diversity\"])\n",
    "stats = {}\n",
    "stats[\"Positive\"] = statistics(pos_dict)\n",
    "stats[\"Negative\"] = statistics(neg_dict)\n",
    "for cat in categories:\n",
    "    rows.append([cat, f\"{stats.get(cat)[0]:.6f}\", \n",
    "                f\"{stats.get(cat)[1]:.6f}\",\n",
    "                f\"{stats.get(cat)[2]:.6f}\",\n",
    "                f\"{stats.get(cat)[3]:.6f}\"])\n",
    "\n",
    "columns = zip(*rows)\n",
    "column_widths = [max(len(item) for item in col) for col in columns]\n",
    "for row in rows:\n",
    "    print(''.join(' {:{width}} '.format(row[i], width=column_widths[i]) \n",
    "                  for i in range(0, len(row))))   "
   ]
  },
  {
   "cell_type": "markdown",
   "metadata": {},
   "source": [
    "As it shows, positive reviews are overall longer than negative ones; they also have longer sentences with larger and more diverse vocabularies. Let's see how many words there are in overlap between positive and negative vocabularies:"
   ]
  },
  {
   "cell_type": "code",
   "execution_count": 4,
   "metadata": {
    "scrolled": false
   },
   "outputs": [
    {
     "name": "stdout",
     "output_type": "stream",
     "text": [
      "['asssss', 'assuaged', 'asthmatic', 'astin', 'astonishment', 'astor', \"astronauts'\", 'astronomer/writer', 'astronomical', 'astronomically', 'asuma', 'at-odds', 'atf', 'atheism', 'atheists', 'atkine', \"atlanta's\", \"atlantic's\", 'atlantis', \"atlantis'\", 'atmospheres', 'atmospherically', 'atmostpheric', 'atomizers', 'atone', 'atreus', 'atrophied', 'atrophy', 'attachs', 'attainable', \"attanasio's\", \"attendant's\", 'attendees', 'attention-grabbing', 'attentive', 'attentiveness', 'attest', 'attilla-looking', 'attractions', 'attractive-seeming', 'attractiveness', 'au/~koukoula/', 'auberjonois', 'audacious', 'audacious--and', 'audience--in', 'audience-friendly', 'audience-pleaser', 'audience-pleasing', 'audiotapes', 'auditioned', 'auditor', 'audre', 'aug', 'aughra', 'augment', \"august's\", 'augusts', 'aulon', 'aumont', 'aunjanue', 'auntie', 'aural', 'aurally', 'aurelien', 'aurelius', \"aurelius'\", 'auriga', 'auriol', 'aurora', 'auschwitz', 'austen-like', \"australian's\", 'australian/belgian', 'auteil', 'auteuil', \"auteuil's\", \"auteur's\", 'authentically', 'authorial', 'authoritarian', 'authoritarianism', 'authoritatively', \"authorities'\", 'authoritive', 'authorizes', 'authorship', 'authorties', 'auto-arousal', 'autocrat', 'automation', 'autonomous', 'autonomy', \"autumn's\", 'autumnal', 'aux', 'auxiliary', 'availability', 'avant', 'avary']\n",
      "['baffling', 'bafflingly', 'bafta', 'baggy', 'baghdad', 'bah', 'bahia', 'bahns', 'baigelman', \"baigelman's\", 'baileygaites', 'bails', 'baio', 'baird', 'bakalian', 'baker-enhanced', 'bakersfield', 'bakker', 'bakkers', 'bakula', 'balaban', 'balasko', 'balbricker', 'baldly', 'balinski', 'balki', 'ball-peen', 'ball-picking', 'ball-sniffing', 'ballard', 'ballet-type', 'ballhaus', 'ballisitic', 'ballistics', 'ballooning', 'ballyhooed', 'balm', 'bamboozled', \"band's\", 'bandaras', \"banderas'\", \"banderas's\", 'banderes', 'bandies', 'bane', 'bangkok', 'bangy', 'banish', 'bankability', 'bankroll', 'banshee', 'banzai', 'baotian', 'bar-owner', 'bar-room', 'bar/whorehouse', 'barbarino', 'barbarity', 'barbecue', 'barbell', 'barbeque', 'barby', 'barcalow', 'bare-chested', 'barely-funny', 'barely-in-control', 'barest', 'barfing', 'bark', 'barked', 'barkeep', 'barkeeps', 'barker', 'barnacles', 'barnett', 'barney', 'barnfield', 'barr', 'barracking', 'barrie', 'barring', 'barta', 'bartenders', 'barter', 'bartholomew', 'bartkiwiak', 'bartusiak', 'bascially', 'baseball-related', 'baseless', 'baser', 'bashfully', 'basic--and', \"basinger's\", 'basquiat', 'bastardizing', 'bastards', 'bastion', 'bat-loathing', 'bat-people']\n",
      "\n",
      "16378 unique words in positive reviews only\n",
      "14115 unique words in negative reviews only\n"
     ]
    }
   ],
   "source": [
    "def vocab_difference(list1, list2):\n",
    "    vocab1 = []\n",
    "    vocab2 = []\n",
    "    for rev in list1:\n",
    "        vocab1 += tokenize(rev)\n",
    "    for rev in list2:\n",
    "        vocab2 += tokenize(rev)\n",
    "    return sorted(list(set(vocab1) - set(vocab2)))\n",
    "\n",
    "pos_wordlist = pos_dict.values()\n",
    "neg_wordlist = neg_dict.values()\n",
    "\n",
    "print(vocab_difference(pos_wordlist, neg_wordlist)[1500:1600])\n",
    "print(vocab_difference(neg_wordlist, pos_wordlist)[1500:1600])\n",
    "print()\n",
    "print(str(len(vocab_difference(pos_wordlist, neg_wordlist))) + \" unique words in positive reviews only\")\n",
    "print(str(len(vocab_difference(neg_wordlist, pos_wordlist))) + \" unique words in negative reviews only\")"
   ]
  },
  {
   "cell_type": "markdown",
   "metadata": {},
   "source": [
    "There are $16378$ unique words in the `positive` dictionary and $14115$ unique words in the `negative` one.\n",
    "\n",
    "So far, you've been looking at word forms – i.e., words like *movie* and *movies*, *like* and *liked* were considered as separate tokens in the statistics above. How much diversity is there in reviews when you take lemmas? Let's apply further NLP analysis and see how many word lemmas, not word forms (i.e., original tokens), there are in each subset.\n",
    "\n",
    "First, import `spacy` and implement the method `lemmatize`, that, when the \"switch\" is turned on, will return lemmas rather than word tokens."
   ]
  },
  {
   "cell_type": "code",
   "execution_count": 5,
   "metadata": {},
   "outputs": [],
   "source": [
    "import spacy\n",
    "nlp = spacy.load(\"en_core_web_md\")"
   ]
  },
  {
   "cell_type": "code",
   "execution_count": 6,
   "metadata": {
    "scrolled": false
   },
   "outputs": [
    {
     "name": "stdout",
     "output_type": "stream",
     "text": [
      "['film', 'adapt', 'from', 'comic', 'book', 'have', 'have', 'plenty', 'of', 'success', ',', 'whether', '-PRON-', 'be', 'about', 'superhero', '(', 'batman', ',', 'superman', ',', 'spawn', ')', ',', 'or', 'gear', 'toward', 'kid', '(', 'casper', ')', 'or', 'the', 'arthouse', 'crowd', '(', 'ghost', 'world', ')', ',', 'but', 'there', 'be', 'never', 'really', 'be', 'a', 'comic', 'book', 'like', 'from', 'hell', 'before', '.', ' ', 'for', 'starter', ',', '-PRON-', 'be', 'create', 'by', 'alan', 'moore', '(', 'and', 'eddie', 'campbell', ')', ',', 'who', 'bring', 'the', 'medium', 'to', 'a', 'whole', 'new', 'level', 'in', 'the', 'mid', \"'\", '80', 'with', 'a', '12-part', 'series', 'call', 'the', 'watchman', '.', ' ', 'to', 'say', 'moore', 'and', 'campbell', 'thoroughly', 'research', 'the', 'subject', 'of', 'jack', 'the', 'ripper', 'would', 'be', 'like', 'say', 'michael', 'jackson', 'be', 'start', 'to', 'look', 'a', 'little', 'odd', '.', ' ', 'the', 'book', '(', 'or', '\"', 'graphic', 'novel', ',', '\"', 'if', '-PRON-', 'will', ')', 'be', 'over', '500', 'page', 'long', 'and', 'include', 'nearly', '30', 'more', 'that', 'consist', 'of', 'nothing', 'but', 'footnote', '.', ' ', 'in', 'other', 'word', ',', 'do', 'not', 'dismiss', 'this', 'film', 'because', 'of', '-PRON-', 'source', '.', ' ', 'if', '-PRON-', 'can', 'get', 'past', 'the', 'whole', 'comic', 'book', 'thing', ',', '-PRON-', 'may', 'find', 'another', 'stumble', 'block', 'in', 'from', 'hell', \"'s\", 'director', ',', 'albert', 'and', 'allen', 'hughes', '.', ' ', 'get', 'the', 'hughe', 'brother']\n",
      "\n",
      "[films, adapted, from, comic, books, have, had, plenty, of, success, ,, whether, they, 're, about, superheroes, (, batman, ,, superman, ,, spawn, ), ,, or, geared, toward, kids, (, casper, ), or, the, arthouse, crowd, (, ghost, world, ), ,, but, there, 's, never, really, been, a, comic, book, like, from, hell, before, .,  , for, starters, ,, it, was, created, by, alan, moore, (, and, eddie, campbell, ), ,, who, brought, the, medium, to, a, whole, new, level, in, the, mid, ', 80s, with, a, 12-part, series, called, the, watchmen, .,  , to, say, moore, and, campbell, thoroughly, researched, the, subject, of, jack, the, ripper, would, be, like, saying, michael, jackson, is, starting, to, look, a, little, odd, .,  , the, book, (, or, \", graphic, novel, ,, \", if, you, will, ), is, over, 500, pages, long, and, includes, nearly, 30, more, that, consist, of, nothing, but, footnotes, .,  , in, other, words, ,, do, n't, dismiss, this, film, because, of, its, source, .,  , if, you, can, get, past, the, whole, comic, book, thing, ,, you, might, find, another, stumbling, block, in, from, hell, 's, directors, ,, albert, and, allen, hughes, .,  , getting, the, hughes, brothers]\n"
     ]
    }
   ],
   "source": [
    "def lemmatize(sentence, switch):\n",
    "    text = nlp(sentence.replace(\"\\n\", \" \"))\n",
    "    if switch==\"on\":\n",
    "        lemmas = [text[i].lemma_ for i in range(len(text))]\n",
    "        return lemmas\n",
    "    else:\n",
    "        tokens = [text[i] for i in range(len(text))]\n",
    "        return tokens\n",
    "\n",
    "#print out the results and compare\n",
    "print(lemmatize(pos_dict.get(next(iter(pos_dict))), \"on\")[:200])\n",
    "print()\n",
    "print(lemmatize(pos_dict.get(next(iter(pos_dict))), \"off\")[:200])"
   ]
  },
  {
   "cell_type": "markdown",
   "metadata": {},
   "source": [
    "Since processing with `spacy` might take time, let's run it once and store the results in specific data structures as we did in the previous chapters:"
   ]
  },
  {
   "cell_type": "code",
   "execution_count": 7,
   "metadata": {},
   "outputs": [
    {
     "name": "stdout",
     "output_type": "stream",
     "text": [
      "200 reviews processed\n",
      "400 reviews processed\n",
      "600 reviews processed\n",
      "800 reviews processed\n",
      "Dataset processed\n",
      "200 reviews processed\n",
      "400 reviews processed\n",
      "600 reviews processed\n",
      "800 reviews processed\n",
      "Dataset processed\n"
     ]
    }
   ],
   "source": [
    "def spacy_preprocess_reviews(source):\n",
    "    source_docs = {}\n",
    "    index = 0\n",
    "    for review_id in source.keys():\n",
    "        #to speed processing up, you can disable \"ner\" – Named Entity Recognition module of spaCy\n",
    "        source_docs[review_id] = nlp(source.get(review_id).replace(\"\\n\", \"\"), disable=[\"ner\"])\n",
    "        if index>0 and (index%200)==0:\n",
    "            print(str(index) + \" reviews processed\")\n",
    "        index += 1\n",
    "    print(\"Dataset processed\")\n",
    "    return source_docs\n",
    "\n",
    "pos_docs = spacy_preprocess_reviews(pos_dict)\n",
    "neg_docs = spacy_preprocess_reviews(neg_dict)"
   ]
  },
  {
   "cell_type": "markdown",
   "metadata": {},
   "source": [
    "Now, let's calculate statistics as before, but this time taking lemmas rather than word tokens into account – intuitively, this should make the space of unique 'words' smaller:"
   ]
  },
  {
   "cell_type": "code",
   "execution_count": 8,
   "metadata": {},
   "outputs": [
    {
     "name": "stdout",
     "output_type": "stream",
     "text": [
      " Category  Avg_Len(Review)  Vocabulary Size  Diversity \n",
      " Positive  818.722000       24432.000000     33.510232 \n",
      " Negative  737.379000       22839.000000     32.285958 \n"
     ]
    }
   ],
   "source": [
    "def statistics_lem(source_docs):\n",
    "    length = 0\n",
    "    vocab = []\n",
    "    for review_id in source_docs.keys():\n",
    "        review_doc = source_docs.get(review_id)\n",
    "        lemmas = []\n",
    "        for token in review_doc:\n",
    "            lemmas.append(token.lemma_)\n",
    "        length += len(lemmas)\n",
    "        vocab += lemmas\n",
    "    avg_length = float(length)/len(source_docs)\n",
    "    vocab_size = len(set(vocab))\n",
    "    diversity = float(length)/float(vocab_size)\n",
    "    return avg_length, vocab_size, diversity\n",
    "        \n",
    "categories = [\"Positive\", \"Negative\"]\n",
    "rows = []\n",
    "rows.append([\"Category\", \"Avg_Len(Review)\", \"Vocabulary Size\", \"Diversity\"])\n",
    "stats = {}\n",
    "stats[\"Positive\"] = statistics_lem(pos_docs)\n",
    "stats[\"Negative\"] = statistics_lem(neg_docs)\n",
    "for cat in categories:\n",
    "    rows.append([cat, f\"{stats.get(cat)[0]:.6f}\", \n",
    "                f\"{stats.get(cat)[1]:.6f}\",\n",
    "                f\"{stats.get(cat)[2]:.6f}\"])\n",
    "\n",
    "columns = zip(*rows)\n",
    "column_widths = [max(len(item) for item in col) for col in columns]\n",
    "for row in rows:\n",
    "    print(''.join(' {:{width}} '.format(row[i], width=column_widths[i]) \n",
    "                  for i in range(0, len(row))))"
   ]
  },
  {
   "cell_type": "markdown",
   "metadata": {},
   "source": [
    "The difference gets considerably smaller, but you can still see that positive reviews are longer and more diverse than negative ones. What do you think it says about the nature of positive and negative reviews?\n",
    "\n",
    "Let's now extract the non-overlapping lemmas from the positive and negative subsets. This requires you to modify the code for `vocab_difference` above slightly:"
   ]
  },
  {
   "cell_type": "code",
   "execution_count": 9,
   "metadata": {},
   "outputs": [
    {
     "name": "stdout",
     "output_type": "stream",
     "text": [
      "9230 unique lemmas in positive reviews only\n",
      "7637 unique lemmas in negative reviews only\n"
     ]
    }
   ],
   "source": [
    "def vocab_lem_difference(source_docs1, source_docs2):\n",
    "    vocab1 = []\n",
    "    vocab2 = []\n",
    "    for rev_id in source_docs1.keys():\n",
    "        rev = source_docs1.get(rev_id)\n",
    "        for token in rev:\n",
    "            vocab1.append(token.lemma_)\n",
    "    for rev_id in source_docs2.keys():\n",
    "        rev = source_docs2.get(rev_id)\n",
    "        for token in rev:\n",
    "            vocab2.append(token.lemma_)\n",
    "    return sorted(list(set(vocab1) - set(vocab2)))\n",
    "\n",
    "print(str(len(vocab_lem_difference(pos_docs, neg_docs))) + \" unique lemmas in positive reviews only\")\n",
    "print(str(len(vocab_lem_difference(neg_docs, pos_docs))) + \" unique lemmas in negative reviews only\")"
   ]
  },
  {
   "cell_type": "markdown",
   "metadata": {},
   "source": [
    "Compare these numbers to the ones for word tokens above.\n",
    "\n",
    "Finally, let's see if the number of unique adjectives and adverbs differs across the reviews with different polarity:"
   ]
  },
  {
   "cell_type": "code",
   "execution_count": 10,
   "metadata": {},
   "outputs": [
    {
     "name": "stdout",
     "output_type": "stream",
     "text": [
      " Category  Unique adj's  Unique adv's \n",
      " Positive  2374.000000   574.000000   \n",
      " Negative  1906.000000   495.000000   \n"
     ]
    }
   ],
   "source": [
    "def vocab_pos_difference(source_docs1, source_docs2, pos):\n",
    "    vocab1 = []\n",
    "    vocab2 = []\n",
    "    for rev_id in source_docs1.keys():\n",
    "        rev = source_docs1.get(rev_id)\n",
    "        for token in rev:\n",
    "            if token.pos_==pos:\n",
    "                vocab1.append(token.text)\n",
    "    for rev_id in source_docs2.keys():\n",
    "        rev = source_docs2.get(rev_id)\n",
    "        for token in rev:\n",
    "            if token.pos_==pos:\n",
    "                vocab2.append(token.text)\n",
    "    return sorted(list(set(vocab1) - set(vocab2)))\n",
    "\n",
    "\n",
    "categories = [\"Positive\", \"Negative\"]\n",
    "rows = []\n",
    "rows.append([\"Category\", \"Unique adj's\", \"Unique adv's\"])\n",
    "stats = {}\n",
    "stats[\"Positive\"] = (len(vocab_pos_difference(pos_docs, neg_docs, \"ADJ\")), \n",
    "                     len(vocab_pos_difference(pos_docs, neg_docs, \"ADV\"))) \n",
    "stats[\"Negative\"] = (len(vocab_pos_difference(neg_docs, pos_docs, \"ADJ\")), \n",
    "                     len(vocab_pos_difference(neg_docs, pos_docs, \"ADV\"))) \n",
    "for cat in categories:\n",
    "    rows.append([cat, f\"{stats.get(cat)[0]:.6f}\", \n",
    "                f\"{stats.get(cat)[1]:.6f}\"])\n",
    "\n",
    "columns = zip(*rows)\n",
    "column_widths = [max(len(item) for item in col) for col in columns]\n",
    "for row in rows:\n",
    "    print(''.join(' {:{width}} '.format(row[i], width=column_widths[i]) \n",
    "                  for i in range(0, len(row))))      "
   ]
  },
  {
   "cell_type": "markdown",
   "metadata": {},
   "source": [
    "As before, positive reviews turn out to have more unique adjectives and adverbs.\n",
    "\n",
    "## Simple approach with sentiment lexicons\n",
    "\n",
    "[William Hamilton and his colleagues from Stanford](https://nlp.stanford.edu/projects/socialsent/) collected lists of words with sentiment scores assigned:\n",
    "\n",
    "- per part of speech, for instance for all words vs for adjectives only\n",
    "- per decade, registering how sentiment changed over time, e.g. between 1990's and 2000's (take a look at how the sentiment of different words changed, e.g., '*wicked*' becoming much more positive these days, changing from $-3.09$ in 1890's up to $-0.76$ in 2000's)\n",
    "- per domain, e.g. movie-related words specifically.\n",
    "\n",
    "To this end, let's build a simple \"classifier\" that will decide upon the sentiment taking the overall weight of different sentimental words in a review into account. \n",
    "\n",
    "Let's first implement a method that will collect sentiment score per word, depending on the source list:"
   ]
  },
  {
   "cell_type": "code",
   "execution_count": 11,
   "metadata": {},
   "outputs": [
    {
     "name": "stdout",
     "output_type": "stream",
     "text": [
      "1.28\n",
      "1968\n",
      "1.19\n",
      "2041\n",
      "4924\n",
      "4924\n",
      "4981\n"
     ]
    }
   ],
   "source": [
    "def collect_wordlist(input_file):\n",
    "    word_dict = {}\n",
    "    with codecs.open(input_file, encoding='ISO-8859-1', errors ='ignore') as f:\n",
    "        for a_line in f.readlines():\n",
    "            cols = a_line.split(\"\\t\")\n",
    "            if len(cols)>2:\n",
    "                word = cols[0].strip()\n",
    "                score = float(cols[1].strip())\n",
    "                word_dict[word] = score\n",
    "    f.close()\n",
    "    return word_dict\n",
    "\n",
    "\n",
    "adj_90 = collect_wordlist(\"sentiment_words/adjectives/1990.tsv\")\n",
    "print(adj_90.get(\"cool\"))\n",
    "print(len(adj_90))\n",
    "adj_00 = collect_wordlist(\"sentiment_words/adjectives/2000.tsv\")\n",
    "print(adj_00.get(\"cool\"))\n",
    "print(len(adj_00))\n",
    "all_90 = collect_wordlist(\"sentiment_words/frequent_words/1990.tsv\")\n",
    "print(len(all_90))\n",
    "all_00 = collect_wordlist(\"sentiment_words/frequent_words/2000.tsv\")\n",
    "print(len(all_00))\n",
    "movie_words = collect_wordlist(\"sentiment_words/subreddits/movies.tsv\")\n",
    "print(len(movie_words))"
   ]
  },
  {
   "cell_type": "markdown",
   "metadata": {},
   "source": [
    "Now, let's implement a simple threshold-based approach, based on the idea that if the cumulative score is positive, it's a positive review, and if it is negative, it is a negative one. You have a choice between two strategies:\n",
    "- each positive word is worth +1 point and each negative one -1\n",
    "- each positive and negative word has different weight defined by the score from the lexicon.\n"
   ]
  },
  {
   "cell_type": "code",
   "execution_count": 12,
   "metadata": {},
   "outputs": [
    {
     "name": "stdout",
     "output_type": "stream",
     "text": [
      " List    Acc(positive)  Acc(negative)  Acc(all) \n",
      " Adj_90  0.889000       0.267000       0.578000 \n",
      " Adj_00  0.825000       0.354000       0.589500 \n",
      " All_90  1.000000       0.000000       0.500000 \n",
      " All_00  0.935000       0.086000       0.510500 \n",
      " Movies  0.014000       0.996000       0.505000 \n"
     ]
    }
   ],
   "source": [
    "def bin_decisions(a_dict, label, sent_dict):\n",
    "    decisions = []\n",
    "    for rev_id in a_dict.keys():\n",
    "        score = 0\n",
    "        for token in a_dict.get(rev_id):\n",
    "            if token.text in sent_dict.keys():\n",
    "                if sent_dict.get(token.text)<0:\n",
    "                    score -= 1\n",
    "                else:\n",
    "                    score += 1\n",
    "        if score < 0:\n",
    "            decisions.append((-1, label))\n",
    "        else:\n",
    "            decisions.append((1, label))\n",
    "    return decisions\n",
    "\n",
    "def weighted_decisions(a_dict, label, sent_dict):\n",
    "    decisions = []\n",
    "    for rev_id in a_dict.keys():\n",
    "        score = 0\n",
    "        for token in a_dict.get(rev_id):\n",
    "            if token.text in sent_dict.keys():\n",
    "                score += sent_dict.get(token.text)\n",
    "        if score < 0:\n",
    "            decisions.append((-1, label))\n",
    "        else:\n",
    "            decisions.append((1, label))\n",
    "    return decisions\n",
    "\n",
    "def get_accuracy(pos_docs, neg_docs, sent_dict):\n",
    "    decisions_pos = bin_decisions(pos_docs, 1, sent_dict)\n",
    "    decisions_neg = bin_decisions(neg_docs, -1, sent_dict)\n",
    "    decisions_all = decisions_pos + decisions_neg\n",
    "    lists = [decisions_pos, decisions_neg, decisions_all]\n",
    "    accuracies = []\n",
    "    for i in range(0, len(lists)):\n",
    "        match = 0\n",
    "        for item in lists[i]:\n",
    "            if item[0]==item[1]:\n",
    "                match += 1\n",
    "        accuracies.append(float(match)/float(len(lists[i])))\n",
    "    return accuracies\n",
    "\n",
    "        \n",
    "categories = [\"Adj_90\", \"Adj_00\", \"All_90\", \"All_00\", \"Movies\"]\n",
    "rows = []\n",
    "rows.append([\"List\", \"Acc(positive)\", \"Acc(negative)\", \"Acc(all)\"])\n",
    "accs = {}\n",
    "accs[\"Adj_90\"] = get_accuracy(pos_docs, neg_docs, adj_90) \n",
    "accs[\"Adj_00\"] = get_accuracy(pos_docs, neg_docs, adj_00) \n",
    "accs[\"All_90\"] = get_accuracy(pos_docs, neg_docs, all_90) \n",
    "accs[\"All_00\"] = get_accuracy(pos_docs, neg_docs, all_00) \n",
    "accs[\"Movies\"] = get_accuracy(pos_docs, neg_docs, movie_words) \n",
    "for cat in categories:\n",
    "    rows.append([cat, f\"{accs.get(cat)[0]:.6f}\", \n",
    "                f\"{accs.get(cat)[1]:.6f}\",\n",
    "                f\"{accs.get(cat)[2]:.6f}\"])\n",
    "\n",
    "columns = zip(*rows)\n",
    "column_widths = [max(len(item) for item in col) for col in columns]\n",
    "for row in rows:\n",
    "    print(''.join(' {:{width}} '.format(row[i], width=column_widths[i]) \n",
    "                  for i in range(0, len(row))))    "
   ]
  },
  {
   "cell_type": "markdown",
   "metadata": {},
   "source": [
    "Here is the summary of the **results:**\n",
    "\n",
    "- With binary approach:\n",
    "    - adj_90: Positive: 0.889; Negative: 0.267; All: 0.578\n",
    "    - adj_00: Positive: 0.825; Negative: 0.354; All: **0.5895**\n",
    "    - all_90: Positive: **1.0**; Negative: 0.0; All: 0.5\n",
    "    - all_00: Positive: 0.935; Negative: 0.086; All: 0.5105\n",
    "    - movie_words: Positive: 0.014; Negative: **0.996**; All: 0.505\n",
    "\n",
    "- With weighted scores approach:\n",
    "    - adj_90: Positive: 0.788; Negative: 0.507; All: **0.6475**\n",
    "    - adj_00: Positive: 0.818; Negative: 0.424; All: 0.621\n",
    "    - all_90: Positive: **0.984**; Negative: 0.017; All: 0.5005\n",
    "    - all_00: Positive: 0.805; Negative: 0.373; All: 0.589\n",
    "    - movie_words: Positive: 0.008; Negative: **0.997**; All: 0.5025\n",
    "    \n",
    "Let's check how many words from the lexicons occur in each type of reviews:"
   ]
  },
  {
   "cell_type": "code",
   "execution_count": 13,
   "metadata": {},
   "outputs": [
    {
     "name": "stdout",
     "output_type": "stream",
     "text": [
      " List    Occurs(pos)  Occurs(neg) \n",
      " Adj_90  1726.000000  1667.000000 \n",
      " Adj_00  1782.000000  1731.000000 \n",
      " All_90  4772.000000  4712.000000 \n",
      " All_00  4789.000000  4732.000000 \n",
      " Movies  4675.000000  4660.000000 \n"
     ]
    }
   ],
   "source": [
    "def occurrences(a_dict, sent_dict):\n",
    "    occur = []\n",
    "    for rev_id in a_dict.keys():\n",
    "        for token in a_dict.get(rev_id):\n",
    "            if token.text in sent_dict.keys():\n",
    "                occur.append(token.text)\n",
    "    return len(set(occur))\n",
    "\n",
    "categories = [\"Adj_90\", \"Adj_00\", \"All_90\", \"All_00\", \"Movies\"]\n",
    "rows = []\n",
    "rows.append([\"List\", \"Occurs(pos)\", \"Occurs(neg)\"])\n",
    "occs = {}\n",
    "occs[\"Adj_90\"] = occurrences(pos_docs, adj_90), occurrences(neg_docs, adj_90)\n",
    "occs[\"Adj_00\"] = occurrences(pos_docs, adj_00), occurrences(neg_docs, adj_00)\n",
    "occs[\"All_90\"] = occurrences(pos_docs, all_90), occurrences(neg_docs, all_90)\n",
    "occs[\"All_00\"] = occurrences(pos_docs, all_00), occurrences(neg_docs, all_00)\n",
    "occs[\"Movies\"] = occurrences(pos_docs, movie_words), occurrences(neg_docs, movie_words)\n",
    "for cat in categories:\n",
    "    rows.append([cat, f\"{occs.get(cat)[0]:.6f}\", \n",
    "                f\"{occs.get(cat)[1]:.6f}\"])\n",
    "\n",
    "columns = zip(*rows)\n",
    "column_widths = [max(len(item) for item in col) for col in columns]\n",
    "for row in rows:\n",
    "    print(''.join(' {:{width}} '.format(row[i], width=column_widths[i]) \n",
    "                  for i in range(0, len(row))))    "
   ]
  },
  {
   "cell_type": "markdown",
   "metadata": {},
   "source": [
    "More to follow in Chapter 8."
   ]
  },
  {
   "cell_type": "code",
   "execution_count": null,
   "metadata": {},
   "outputs": [],
   "source": []
  }
 ],
 "metadata": {
  "kernelspec": {
   "display_name": "Python 3",
   "language": "python",
   "name": "python3"
  },
  "language_info": {
   "codemirror_mode": {
    "name": "ipython",
    "version": 3
   },
   "file_extension": ".py",
   "mimetype": "text/x-python",
   "name": "python",
   "nbconvert_exporter": "python",
   "pygments_lexer": "ipython3",
   "version": "3.7.6"
  }
 },
 "nbformat": 4,
 "nbformat_minor": 4
}
